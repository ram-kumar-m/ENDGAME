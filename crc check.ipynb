{
 "cells": [
  {
   "cell_type": "code",
   "execution_count": 4,
   "id": "swedish-vault",
   "metadata": {},
   "outputs": [],
   "source": [
    "from tqdm.auto import tqdm\n",
    "import glob"
   ]
  },
  {
   "cell_type": "code",
   "execution_count": 5,
   "id": "anticipated-reward",
   "metadata": {},
   "outputs": [],
   "source": [
    "%config Completer.use_jedi = False"
   ]
  },
  {
   "cell_type": "code",
   "execution_count": 6,
   "id": "instrumental-heavy",
   "metadata": {},
   "outputs": [],
   "source": [
    "%load_ext autoreload\n",
    "%autoreload 2"
   ]
  },
  {
   "cell_type": "code",
   "execution_count": 8,
   "id": "elementary-frontier",
   "metadata": {},
   "outputs": [],
   "source": [
    "import pandas as pd\n",
    "pd.options.display.max_rows = 100"
   ]
  },
  {
   "cell_type": "code",
   "execution_count": 10,
   "id": "banner-occasions",
   "metadata": {
    "scrolled": true,
    "tags": []
   },
   "outputs": [
    {
     "data": {
      "application/vnd.jupyter.widget-view+json": {
       "model_id": "cf7c57715ba0475c9f06b01d017645db",
       "version_major": 2,
       "version_minor": 0
      },
      "text/plain": [
       "  0%|          | 0/952 [00:00<?, ?it/s]"
      ]
     },
     "metadata": {},
     "output_type": "display_data"
    },
    {
     "ename": "KeyboardInterrupt",
     "evalue": "",
     "output_type": "error",
     "traceback": [
      "\u001b[1;31m---------------------------------------------------------------------------\u001b[0m",
      "\u001b[1;31mKeyboardInterrupt\u001b[0m                         Traceback (most recent call last)",
      "\u001b[1;32m<ipython-input-10-96342637eee0>\u001b[0m in \u001b[0;36m<module>\u001b[1;34m\u001b[0m\n\u001b[0;32m     13\u001b[0m \u001b[1;33m\u001b[0m\u001b[0m\n\u001b[0;32m     14\u001b[0m \u001b[1;32mfor\u001b[0m \u001b[0mfile\u001b[0m \u001b[1;32min\u001b[0m \u001b[0mtqdm\u001b[0m\u001b[1;33m(\u001b[0m\u001b[0mfiles\u001b[0m\u001b[1;33m)\u001b[0m\u001b[1;33m:\u001b[0m\u001b[1;33m\u001b[0m\u001b[1;33m\u001b[0m\u001b[0m\n\u001b[1;32m---> 15\u001b[1;33m     \u001b[0mdo\u001b[0m\u001b[1;33m(\u001b[0m\u001b[0mfile\u001b[0m\u001b[1;33m)\u001b[0m\u001b[1;33m\u001b[0m\u001b[1;33m\u001b[0m\u001b[0m\n\u001b[0m",
      "\u001b[1;32m<ipython-input-10-96342637eee0>\u001b[0m in \u001b[0;36mdo\u001b[1;34m(file)\u001b[0m\n\u001b[0;32m      7\u001b[0m     \u001b[1;32mglobal\u001b[0m \u001b[0mtokens\u001b[0m\u001b[1;33m\u001b[0m\u001b[1;33m\u001b[0m\u001b[0m\n\u001b[0;32m      8\u001b[0m     \u001b[1;32mtry\u001b[0m\u001b[1;33m:\u001b[0m\u001b[1;33m\u001b[0m\u001b[1;33m\u001b[0m\u001b[0m\n\u001b[1;32m----> 9\u001b[1;33m         \u001b[0mout\u001b[0m \u001b[1;33m=\u001b[0m \u001b[0mtokenizer_py\u001b[0m\u001b[1;33m(\u001b[0m\u001b[0mfile\u001b[0m\u001b[1;33m=\u001b[0m\u001b[0mfile\u001b[0m\u001b[1;33m)\u001b[0m\u001b[1;33m\u001b[0m\u001b[1;33m\u001b[0m\u001b[0m\n\u001b[0m\u001b[0;32m     10\u001b[0m         \u001b[0mtokens\u001b[0m \u001b[1;33m+=\u001b[0m \u001b[0mout\u001b[0m\u001b[1;33m\u001b[0m\u001b[1;33m\u001b[0m\u001b[0m\n\u001b[0;32m     11\u001b[0m     \u001b[1;32mexcept\u001b[0m \u001b[0mException\u001b[0m \u001b[1;32mas\u001b[0m \u001b[0me\u001b[0m\u001b[1;33m:\u001b[0m\u001b[1;33m\u001b[0m\u001b[1;33m\u001b[0m\u001b[0m\n",
      "\u001b[1;32mD:\\play\\ENDGAME\\tokenize_code.py\u001b[0m in \u001b[0;36mtokenizer_py\u001b[1;34m(file, code)\u001b[0m\n\u001b[0;32m     79\u001b[0m     \u001b[1;32mif\u001b[0m \u001b[0mcode\u001b[0m\u001b[1;33m:\u001b[0m\u001b[1;33m\u001b[0m\u001b[1;33m\u001b[0m\u001b[0m\n\u001b[0;32m     80\u001b[0m         \u001b[1;32mtry\u001b[0m\u001b[1;33m:\u001b[0m\u001b[1;33m\u001b[0m\u001b[1;33m\u001b[0m\u001b[0m\n\u001b[1;32m---> 81\u001b[1;33m             code = autopep8.fix_code(code,\n\u001b[0m\u001b[0;32m     82\u001b[0m                                 options={'ignore': ['E402']})\n\u001b[0;32m     83\u001b[0m \u001b[1;31m#             result = python_minifier.minify(\u001b[0m\u001b[1;33m\u001b[0m\u001b[1;33m\u001b[0m\u001b[1;33m\u001b[0m\u001b[0m\n",
      "\u001b[1;32m~\\Miniconda3\\envs\\torch\\lib\\site-packages\\autopep8.py\u001b[0m in \u001b[0;36mfix_code\u001b[1;34m(source, options, encoding, apply_config)\u001b[0m\n\u001b[0;32m   3462\u001b[0m \u001b[1;33m\u001b[0m\u001b[0m\n\u001b[0;32m   3463\u001b[0m     \u001b[0msio\u001b[0m \u001b[1;33m=\u001b[0m \u001b[0mio\u001b[0m\u001b[1;33m.\u001b[0m\u001b[0mStringIO\u001b[0m\u001b[1;33m(\u001b[0m\u001b[0msource\u001b[0m\u001b[1;33m)\u001b[0m\u001b[1;33m\u001b[0m\u001b[1;33m\u001b[0m\u001b[0m\n\u001b[1;32m-> 3464\u001b[1;33m     \u001b[1;32mreturn\u001b[0m \u001b[0mfix_lines\u001b[0m\u001b[1;33m(\u001b[0m\u001b[0msio\u001b[0m\u001b[1;33m.\u001b[0m\u001b[0mreadlines\u001b[0m\u001b[1;33m(\u001b[0m\u001b[1;33m)\u001b[0m\u001b[1;33m,\u001b[0m \u001b[0moptions\u001b[0m\u001b[1;33m=\u001b[0m\u001b[0moptions\u001b[0m\u001b[1;33m)\u001b[0m\u001b[1;33m\u001b[0m\u001b[1;33m\u001b[0m\u001b[0m\n\u001b[0m\u001b[0;32m   3465\u001b[0m \u001b[1;33m\u001b[0m\u001b[0m\n\u001b[0;32m   3466\u001b[0m \u001b[1;33m\u001b[0m\u001b[0m\n",
      "\u001b[1;32m~\\Miniconda3\\envs\\torch\\lib\\site-packages\\autopep8.py\u001b[0m in \u001b[0;36mfix_lines\u001b[1;34m(source_lines, options, filename)\u001b[0m\n\u001b[0;32m   3537\u001b[0m             long_line_ignore_cache=long_line_ignore_cache)\n\u001b[0;32m   3538\u001b[0m \u001b[1;33m\u001b[0m\u001b[0m\n\u001b[1;32m-> 3539\u001b[1;33m         \u001b[0mfixed_source\u001b[0m \u001b[1;33m=\u001b[0m \u001b[0mfix\u001b[0m\u001b[1;33m.\u001b[0m\u001b[0mfix\u001b[0m\u001b[1;33m(\u001b[0m\u001b[1;33m)\u001b[0m\u001b[1;33m\u001b[0m\u001b[1;33m\u001b[0m\u001b[0m\n\u001b[0m\u001b[0;32m   3540\u001b[0m \u001b[1;33m\u001b[0m\u001b[0m\n\u001b[0;32m   3541\u001b[0m     \u001b[0msio\u001b[0m \u001b[1;33m=\u001b[0m \u001b[0mio\u001b[0m\u001b[1;33m.\u001b[0m\u001b[0mStringIO\u001b[0m\u001b[1;33m(\u001b[0m\u001b[0mfixed_source\u001b[0m\u001b[1;33m)\u001b[0m\u001b[1;33m\u001b[0m\u001b[1;33m\u001b[0m\u001b[0m\n",
      "\u001b[1;32m~\\Miniconda3\\envs\\torch\\lib\\site-packages\\autopep8.py\u001b[0m in \u001b[0;36mfix\u001b[1;34m(self)\u001b[0m\n\u001b[0;32m    584\u001b[0m             \u001b[1;34m'hang_closing'\u001b[0m\u001b[1;33m:\u001b[0m \u001b[0mself\u001b[0m\u001b[1;33m.\u001b[0m\u001b[0moptions\u001b[0m\u001b[1;33m.\u001b[0m\u001b[0mhang_closing\u001b[0m\u001b[1;33m,\u001b[0m\u001b[1;33m\u001b[0m\u001b[1;33m\u001b[0m\u001b[0m\n\u001b[0;32m    585\u001b[0m         }\n\u001b[1;32m--> 586\u001b[1;33m         \u001b[0mresults\u001b[0m \u001b[1;33m=\u001b[0m \u001b[0m_execute_pep8\u001b[0m\u001b[1;33m(\u001b[0m\u001b[0mpep8_options\u001b[0m\u001b[1;33m,\u001b[0m \u001b[0mself\u001b[0m\u001b[1;33m.\u001b[0m\u001b[0msource\u001b[0m\u001b[1;33m)\u001b[0m\u001b[1;33m\u001b[0m\u001b[1;33m\u001b[0m\u001b[0m\n\u001b[0m\u001b[0;32m    587\u001b[0m \u001b[1;33m\u001b[0m\u001b[0m\n\u001b[0;32m    588\u001b[0m         \u001b[1;32mif\u001b[0m \u001b[0mself\u001b[0m\u001b[1;33m.\u001b[0m\u001b[0moptions\u001b[0m\u001b[1;33m.\u001b[0m\u001b[0mverbose\u001b[0m\u001b[1;33m:\u001b[0m\u001b[1;33m\u001b[0m\u001b[1;33m\u001b[0m\u001b[0m\n",
      "\u001b[1;32m~\\Miniconda3\\envs\\torch\\lib\\site-packages\\autopep8.py\u001b[0m in \u001b[0;36m_execute_pep8\u001b[1;34m(pep8_options, source)\u001b[0m\n\u001b[0;32m   2962\u001b[0m     checker = pycodestyle.Checker('', lines=source, reporter=QuietReport,\n\u001b[0;32m   2963\u001b[0m                                   **pep8_options)\n\u001b[1;32m-> 2964\u001b[1;33m     \u001b[0mchecker\u001b[0m\u001b[1;33m.\u001b[0m\u001b[0mcheck_all\u001b[0m\u001b[1;33m(\u001b[0m\u001b[1;33m)\u001b[0m\u001b[1;33m\u001b[0m\u001b[1;33m\u001b[0m\u001b[0m\n\u001b[0m\u001b[0;32m   2965\u001b[0m     \u001b[1;32mreturn\u001b[0m \u001b[0mchecker\u001b[0m\u001b[1;33m.\u001b[0m\u001b[0mreport\u001b[0m\u001b[1;33m.\u001b[0m\u001b[0mfull_error_results\u001b[0m\u001b[1;33m(\u001b[0m\u001b[1;33m)\u001b[0m\u001b[1;33m\u001b[0m\u001b[1;33m\u001b[0m\u001b[0m\n\u001b[0;32m   2966\u001b[0m \u001b[1;33m\u001b[0m\u001b[0m\n",
      "\u001b[1;32m~\\Miniconda3\\envs\\torch\\lib\\site-packages\\pycodestyle.py\u001b[0m in \u001b[0;36mcheck_all\u001b[1;34m(self, expected, line_offset)\u001b[0m\n\u001b[0;32m   2200\u001b[0m                 \u001b[1;32mif\u001b[0m \u001b[0mtoken_type\u001b[0m \u001b[1;32min\u001b[0m \u001b[0mNEWLINE\u001b[0m\u001b[1;33m:\u001b[0m\u001b[1;33m\u001b[0m\u001b[1;33m\u001b[0m\u001b[0m\n\u001b[0;32m   2201\u001b[0m                     \u001b[1;32mif\u001b[0m \u001b[0mtoken_type\u001b[0m \u001b[1;33m==\u001b[0m \u001b[0mtokenize\u001b[0m\u001b[1;33m.\u001b[0m\u001b[0mNEWLINE\u001b[0m\u001b[1;33m:\u001b[0m\u001b[1;33m\u001b[0m\u001b[1;33m\u001b[0m\u001b[0m\n\u001b[1;32m-> 2202\u001b[1;33m                         \u001b[0mself\u001b[0m\u001b[1;33m.\u001b[0m\u001b[0mcheck_logical\u001b[0m\u001b[1;33m(\u001b[0m\u001b[1;33m)\u001b[0m\u001b[1;33m\u001b[0m\u001b[1;33m\u001b[0m\u001b[0m\n\u001b[0m\u001b[0;32m   2203\u001b[0m                         \u001b[0mself\u001b[0m\u001b[1;33m.\u001b[0m\u001b[0mblank_before\u001b[0m \u001b[1;33m=\u001b[0m \u001b[1;36m0\u001b[0m\u001b[1;33m\u001b[0m\u001b[1;33m\u001b[0m\u001b[0m\n\u001b[0;32m   2204\u001b[0m                     \u001b[1;32melif\u001b[0m \u001b[0mlen\u001b[0m\u001b[1;33m(\u001b[0m\u001b[0mself\u001b[0m\u001b[1;33m.\u001b[0m\u001b[0mtokens\u001b[0m\u001b[1;33m)\u001b[0m \u001b[1;33m==\u001b[0m \u001b[1;36m1\u001b[0m\u001b[1;33m:\u001b[0m\u001b[1;33m\u001b[0m\u001b[1;33m\u001b[0m\u001b[0m\n",
      "\u001b[1;32m~\\Miniconda3\\envs\\torch\\lib\\site-packages\\pycodestyle.py\u001b[0m in \u001b[0;36mcheck_logical\u001b[1;34m(self)\u001b[0m\n\u001b[0;32m   2092\u001b[0m                 \u001b[0mprint\u001b[0m\u001b[1;33m(\u001b[0m\u001b[1;34m'   '\u001b[0m \u001b[1;33m+\u001b[0m \u001b[0mname\u001b[0m\u001b[1;33m)\u001b[0m\u001b[1;33m\u001b[0m\u001b[1;33m\u001b[0m\u001b[0m\n\u001b[0;32m   2093\u001b[0m             \u001b[0mself\u001b[0m\u001b[1;33m.\u001b[0m\u001b[0minit_checker_state\u001b[0m\u001b[1;33m(\u001b[0m\u001b[0mname\u001b[0m\u001b[1;33m,\u001b[0m \u001b[0margument_names\u001b[0m\u001b[1;33m)\u001b[0m\u001b[1;33m\u001b[0m\u001b[1;33m\u001b[0m\u001b[0m\n\u001b[1;32m-> 2094\u001b[1;33m             \u001b[1;32mfor\u001b[0m \u001b[0moffset\u001b[0m\u001b[1;33m,\u001b[0m \u001b[0mtext\u001b[0m \u001b[1;32min\u001b[0m \u001b[0mself\u001b[0m\u001b[1;33m.\u001b[0m\u001b[0mrun_check\u001b[0m\u001b[1;33m(\u001b[0m\u001b[0mcheck\u001b[0m\u001b[1;33m,\u001b[0m \u001b[0margument_names\u001b[0m\u001b[1;33m)\u001b[0m \u001b[1;32mor\u001b[0m \u001b[1;33m(\u001b[0m\u001b[1;33m)\u001b[0m\u001b[1;33m:\u001b[0m\u001b[1;33m\u001b[0m\u001b[1;33m\u001b[0m\u001b[0m\n\u001b[0m\u001b[0;32m   2095\u001b[0m                 \u001b[1;32mif\u001b[0m \u001b[1;32mnot\u001b[0m \u001b[0misinstance\u001b[0m\u001b[1;33m(\u001b[0m\u001b[0moffset\u001b[0m\u001b[1;33m,\u001b[0m \u001b[0mtuple\u001b[0m\u001b[1;33m)\u001b[0m\u001b[1;33m:\u001b[0m\u001b[1;33m\u001b[0m\u001b[1;33m\u001b[0m\u001b[0m\n\u001b[0;32m   2096\u001b[0m                     \u001b[1;31m# As mappings are ordered, bisecting is a fast way\u001b[0m\u001b[1;33m\u001b[0m\u001b[1;33m\u001b[0m\u001b[1;33m\u001b[0m\u001b[0m\n",
      "\u001b[1;32m~\\Miniconda3\\envs\\torch\\lib\\site-packages\\pycodestyle.py\u001b[0m in \u001b[0;36mcomparison_to_singleton\u001b[1;34m(logical_line, noqa)\u001b[0m\n\u001b[0;32m   1387\u001b[0m     \"\"\"\n\u001b[0;32m   1388\u001b[0m     \u001b[0mmatch\u001b[0m \u001b[1;33m=\u001b[0m \u001b[1;32mnot\u001b[0m \u001b[0mnoqa\u001b[0m \u001b[1;32mand\u001b[0m \u001b[0mCOMPARE_SINGLETON_REGEX\u001b[0m\u001b[1;33m.\u001b[0m\u001b[0msearch\u001b[0m\u001b[1;33m(\u001b[0m\u001b[0mlogical_line\u001b[0m\u001b[1;33m)\u001b[0m\u001b[1;33m\u001b[0m\u001b[1;33m\u001b[0m\u001b[0m\n\u001b[1;32m-> 1389\u001b[1;33m     \u001b[1;32mif\u001b[0m \u001b[0mmatch\u001b[0m\u001b[1;33m:\u001b[0m\u001b[1;33m\u001b[0m\u001b[1;33m\u001b[0m\u001b[0m\n\u001b[0m\u001b[0;32m   1390\u001b[0m         \u001b[0msingleton\u001b[0m \u001b[1;33m=\u001b[0m \u001b[0mmatch\u001b[0m\u001b[1;33m.\u001b[0m\u001b[0mgroup\u001b[0m\u001b[1;33m(\u001b[0m\u001b[1;36m1\u001b[0m\u001b[1;33m)\u001b[0m \u001b[1;32mor\u001b[0m \u001b[0mmatch\u001b[0m\u001b[1;33m.\u001b[0m\u001b[0mgroup\u001b[0m\u001b[1;33m(\u001b[0m\u001b[1;36m3\u001b[0m\u001b[1;33m)\u001b[0m\u001b[1;33m\u001b[0m\u001b[1;33m\u001b[0m\u001b[0m\n\u001b[0;32m   1391\u001b[0m         \u001b[0msame\u001b[0m \u001b[1;33m=\u001b[0m \u001b[1;33m(\u001b[0m\u001b[0mmatch\u001b[0m\u001b[1;33m.\u001b[0m\u001b[0mgroup\u001b[0m\u001b[1;33m(\u001b[0m\u001b[1;36m2\u001b[0m\u001b[1;33m)\u001b[0m \u001b[1;33m==\u001b[0m \u001b[1;34m'=='\u001b[0m\u001b[1;33m)\u001b[0m\u001b[1;33m\u001b[0m\u001b[1;33m\u001b[0m\u001b[0m\n",
      "\u001b[1;31mKeyboardInterrupt\u001b[0m: "
     ]
    }
   ],
   "source": [
    "from tokenize_code import tokenizer_py\n",
    "path = 'Lib/'\n",
    "tokens = []\n",
    "files = glob.glob(path+'/**/*.py', recursive=True)\n",
    "\n",
    "def do(file):\n",
    "    global tokens\n",
    "    try:        \n",
    "        out = tokenizer_py(file=file)\n",
    "        tokens += out\n",
    "    except Exception as e:\n",
    "        print(e, file)\n",
    "\n",
    "pbar = tqdm(files)\n",
    "for file in pbar:\n",
    "    pbar.set_description(f'{file}')\n",
    "    do(file)"
   ]
  },
  {
   "cell_type": "code",
   "execution_count": null,
   "id": "naughty-topic",
   "metadata": {},
   "outputs": [],
   "source": []
  },
  {
   "cell_type": "code",
   "execution_count": 7,
   "id": "sitting-confusion",
   "metadata": {
    "collapsed": true,
    "jupyter": {
     "outputs_hidden": true,
     "source_hidden": true
    },
    "tags": []
   },
   "outputs": [
    {
     "data": {
      "text/plain": [
       "1847674"
      ]
     },
     "execution_count": 7,
     "metadata": {},
     "output_type": "execute_result"
    }
   ],
   "source": [
    "len(tokens)"
   ]
  },
  {
   "cell_type": "code",
   "execution_count": 6,
   "id": "recorded-strand",
   "metadata": {
    "tags": []
   },
   "outputs": [],
   "source": [
    "from collections import Counter\n",
    "import pickle "
   ]
  },
  {
   "cell_type": "code",
   "execution_count": 12,
   "id": "local-compact",
   "metadata": {
    "tags": []
   },
   "outputs": [],
   "source": [
    "with open('lib_tokens.pkl', 'wb') as f:\n",
    "    pickle.dump(tokens, f)"
   ]
  },
  {
   "cell_type": "code",
   "execution_count": 14,
   "id": "dense-estate",
   "metadata": {
    "jupyter": {
     "source_hidden": true
    },
    "tags": []
   },
   "outputs": [],
   "source": [
    "counter_lib = Counter(tokens)"
   ]
  },
  {
   "cell_type": "code",
   "execution_count": 15,
   "id": "starting-directive",
   "metadata": {
    "jupyter": {
     "source_hidden": true
    },
    "tags": []
   },
   "outputs": [],
   "source": [
    "lib_set = set(tokens)"
   ]
  },
  {
   "cell_type": "code",
   "execution_count": 17,
   "id": "adverse-excitement",
   "metadata": {
    "collapsed": true,
    "jupyter": {
     "outputs_hidden": true,
     "source_hidden": true
    },
    "tags": []
   },
   "outputs": [
    {
     "data": {
      "text/plain": [
       "63007"
      ]
     },
     "execution_count": 17,
     "metadata": {},
     "output_type": "execute_result"
    }
   ],
   "source": [
    "len(lib_set)"
   ]
  },
  {
   "cell_type": "code",
   "execution_count": 7,
   "id": "sticky-ivory",
   "metadata": {
    "jupyter": {
     "source_hidden": true
    },
    "tags": []
   },
   "outputs": [],
   "source": [
    "with open('lib_tokens.pkl', 'rb') as f:\n",
    "    tokens = pickle.load( f)"
   ]
  },
  {
   "cell_type": "code",
   "execution_count": 11,
   "id": "supreme-afternoon",
   "metadata": {
    "tags": []
   },
   "outputs": [
    {
     "name": "stderr",
     "output_type": "stream",
     "text": [
      "[autoreload of tqdm.utils failed: Traceback (most recent call last):\n",
      "  File \"C:\\Users\\Ram\\Miniconda3\\envs\\torch\\lib\\site-packages\\IPython\\extensions\\autoreload.py\", line 245, in check\n",
      "    superreload(m, reload, self.old_objects)\n",
      "  File \"C:\\Users\\Ram\\Miniconda3\\envs\\torch\\lib\\site-packages\\IPython\\extensions\\autoreload.py\", line 410, in superreload\n",
      "    update_generic(old_obj, new_obj)\n",
      "  File \"C:\\Users\\Ram\\Miniconda3\\envs\\torch\\lib\\site-packages\\IPython\\extensions\\autoreload.py\", line 347, in update_generic\n",
      "    update(a, b)\n",
      "  File \"C:\\Users\\Ram\\Miniconda3\\envs\\torch\\lib\\site-packages\\IPython\\extensions\\autoreload.py\", line 317, in update_class\n",
      "    update_instances(old, new)\n",
      "  File \"C:\\Users\\Ram\\Miniconda3\\envs\\torch\\lib\\site-packages\\IPython\\extensions\\autoreload.py\", line 280, in update_instances\n",
      "    ref.__class__ = new\n",
      "  File \"C:\\Users\\Ram\\Miniconda3\\envs\\torch\\lib\\site-packages\\tqdm\\utils.py\", line 91, in __setattr__\n",
      "    return setattr(self._wrapped, name, value)\n",
      "TypeError: __class__ assignment: 'DisableOnWriteError' object layout differs from 'OutStream'\n",
      "]\n",
      "C:\\Users\\Ram\\Miniconda3\\envs\\torch\\lib\\importlib\\__init__.py:169: TqdmExperimentalWarning: Using `tqdm.autonotebook.tqdm` in notebook mode. Use `tqdm.tqdm` instead to force console mode (e.g. in jupyter console)\n",
      "  _bootstrap._exec(spec, module)\n"
     ]
    }
   ],
   "source": [
    "import re\n",
    "import pandas as pd\n",
    "datasets = [[]]\n",
    "file_name = 'python_text.py'\n",
    "\n",
    "with open(file_name, 'r', encoding='utf-8') as f:\n",
    "  #my_dict = {\"description\":[],\"code\":[]}\n",
    "  for line in f:\n",
    "    if line.startswith('#'):\n",
    "      comment = line.split('\\n#')\n",
    "      if datasets[-1] != []:\n",
    "        # we are in a new block\n",
    "        datasets.append(comment)\n",
    "    else:\n",
    "      stripped_line = line#.strip()\n",
    "      if stripped_line:\n",
    "        datasets[-1].append(stripped_line)\n"
   ]
  },
  {
   "cell_type": "code",
   "execution_count": 12,
   "id": "explicit-exemption",
   "metadata": {},
   "outputs": [],
   "source": [
    "raw_data = {'Description' : [re.sub(r\"^#(\\d)*\",'',x[0]).strip() for x in datasets], 'Code': [''.join(x[1:]) for x in datasets]}\n",
    "df = pd.DataFrame(raw_data, columns=[\"Description\", \"Code\"])"
   ]
  },
  {
   "cell_type": "code",
   "execution_count": 13,
   "id": "creative-sensitivity",
   "metadata": {},
   "outputs": [],
   "source": [
    "df = df.drop(0)"
   ]
  },
  {
   "cell_type": "code",
   "execution_count": 14,
   "id": "nasty-reunion",
   "metadata": {
    "scrolled": true,
    "tags": []
   },
   "outputs": [
    {
     "data": {
      "text/html": [
       "<div>\n",
       "<style scoped>\n",
       "    .dataframe tbody tr th:only-of-type {\n",
       "        vertical-align: middle;\n",
       "    }\n",
       "\n",
       "    .dataframe tbody tr th {\n",
       "        vertical-align: top;\n",
       "    }\n",
       "\n",
       "    .dataframe thead th {\n",
       "        text-align: right;\n",
       "    }\n",
       "</style>\n",
       "<table border=\"1\" class=\"dataframe\">\n",
       "  <thead>\n",
       "    <tr style=\"text-align: right;\">\n",
       "      <th></th>\n",
       "      <th>Description</th>\n",
       "      <th>Code</th>\n",
       "    </tr>\n",
       "  </thead>\n",
       "  <tbody>\n",
       "    <tr>\n",
       "      <th>1</th>\n",
       "      <td>write a python function to add two user provid...</td>\n",
       "      <td>\\n\\ndef add_two_numbers(num1, num2):\\n    sum ...</td>\n",
       "    </tr>\n",
       "    <tr>\n",
       "      <th>2</th>\n",
       "      <td>write a program to find and print the largest ...</td>\n",
       "      <td>\\n\\nnum1 = 10\\nnum2 = 12\\nnum3 = 14\\nif (num1 ...</td>\n",
       "    </tr>\n",
       "    <tr>\n",
       "      <th>3</th>\n",
       "      <td>write a program to find and print the smallest...</td>\n",
       "      <td>\\nnum1 = 10\\nnum2 = 12\\nnum3 = 14\\nif (num1 &lt;=...</td>\n",
       "    </tr>\n",
       "    <tr>\n",
       "      <th>4</th>\n",
       "      <td>Write a python function to merge two given lis...</td>\n",
       "      <td>\\n\\ndef merge_lists(l1, l2):\\n    return l1 + ...</td>\n",
       "    </tr>\n",
       "    <tr>\n",
       "      <th>5</th>\n",
       "      <td>Write a program to check whether a number is p...</td>\n",
       "      <td>num = 337\\n\\n\\nif num &gt; 1:\\n   for i in range(...</td>\n",
       "    </tr>\n",
       "    <tr>\n",
       "      <th>...</th>\n",
       "      <td>...</td>\n",
       "      <td>...</td>\n",
       "    </tr>\n",
       "    <tr>\n",
       "      <th>4365</th>\n",
       "      <td>Write a program to print bit wise OR of two nu...</td>\n",
       "      <td>a=60\\nb=13\\n\\n\\nc=a | b\\nprint(\"OR\", c)\\n\\n\\n\\n\\n</td>\n",
       "    </tr>\n",
       "    <tr>\n",
       "      <th>4366</th>\n",
       "      <td>Write a program to print bit wise XOR of two n...</td>\n",
       "      <td>a=60\\nb=13\\n\\n\\nc=a ^ b\\nprint(\"XOR\", c)\\n\\n\\n...</td>\n",
       "    </tr>\n",
       "    <tr>\n",
       "      <th>4367</th>\n",
       "      <td>Write a program to calculate Binary Ones Compl...</td>\n",
       "      <td>a=60\\n\\n\\nc=~a\\nprint(\"Binary Ones Complement\"...</td>\n",
       "    </tr>\n",
       "    <tr>\n",
       "      <th>4368</th>\n",
       "      <td>write a program to Binary Left Shift a number</td>\n",
       "      <td>c=a &lt;&lt; 2\\nprint(\"Binary Left Shift\", c)\\n\\n\\n\\n\\n</td>\n",
       "    </tr>\n",
       "    <tr>\n",
       "      <th>4369</th>\n",
       "      <td>write a program to Binary Right Shift a number</td>\n",
       "      <td>c=a &gt;&gt; 2\\nprint(\"Binary Right Shift\", c)\\n</td>\n",
       "    </tr>\n",
       "  </tbody>\n",
       "</table>\n",
       "<p>4369 rows × 2 columns</p>\n",
       "</div>"
      ],
      "text/plain": [
       "                                            Description  \\\n",
       "1     write a python function to add two user provid...   \n",
       "2     write a program to find and print the largest ...   \n",
       "3     write a program to find and print the smallest...   \n",
       "4     Write a python function to merge two given lis...   \n",
       "5     Write a program to check whether a number is p...   \n",
       "...                                                 ...   \n",
       "4365  Write a program to print bit wise OR of two nu...   \n",
       "4366  Write a program to print bit wise XOR of two n...   \n",
       "4367  Write a program to calculate Binary Ones Compl...   \n",
       "4368      write a program to Binary Left Shift a number   \n",
       "4369     write a program to Binary Right Shift a number   \n",
       "\n",
       "                                                   Code  \n",
       "1     \\n\\ndef add_two_numbers(num1, num2):\\n    sum ...  \n",
       "2     \\n\\nnum1 = 10\\nnum2 = 12\\nnum3 = 14\\nif (num1 ...  \n",
       "3     \\nnum1 = 10\\nnum2 = 12\\nnum3 = 14\\nif (num1 <=...  \n",
       "4     \\n\\ndef merge_lists(l1, l2):\\n    return l1 + ...  \n",
       "5     num = 337\\n\\n\\nif num > 1:\\n   for i in range(...  \n",
       "...                                                 ...  \n",
       "4365  a=60\\nb=13\\n\\n\\nc=a | b\\nprint(\"OR\", c)\\n\\n\\n\\n\\n  \n",
       "4366  a=60\\nb=13\\n\\n\\nc=a ^ b\\nprint(\"XOR\", c)\\n\\n\\n...  \n",
       "4367  a=60\\n\\n\\nc=~a\\nprint(\"Binary Ones Complement\"...  \n",
       "4368  c=a << 2\\nprint(\"Binary Left Shift\", c)\\n\\n\\n\\n\\n  \n",
       "4369         c=a >> 2\\nprint(\"Binary Right Shift\", c)\\n  \n",
       "\n",
       "[4369 rows x 2 columns]"
      ]
     },
     "execution_count": 14,
     "metadata": {},
     "output_type": "execute_result"
    }
   ],
   "source": [
    "df"
   ]
  },
  {
   "cell_type": "code",
   "execution_count": 15,
   "id": "usual-daniel",
   "metadata": {},
   "outputs": [],
   "source": [
    "from tokenize_code import tokenize_r"
   ]
  },
  {
   "cell_type": "code",
   "execution_count": 16,
   "id": "dimensional-croatia",
   "metadata": {},
   "outputs": [
    {
     "data": {
      "text/plain": [
       "\"\\n\\nnum1 = 10\\nnum2 = 12\\nnum3 = 14\\nif (num1 >= num2) and (num1 >= num3):\\n   largest = num1\\nelif (num2 >= num1) and (num2 >= num3):\\n   largest = num2\\nelse:\\n   largest = num3\\nprint(f'largest:{largest}')\\n\\n\\n\""
      ]
     },
     "execution_count": 16,
     "metadata": {},
     "output_type": "execute_result"
    }
   ],
   "source": [
    "a = df.iloc[1]['Code']\n",
    "a"
   ]
  },
  {
   "cell_type": "code",
   "execution_count": 17,
   "id": "collect-atlanta",
   "metadata": {
    "scrolled": true,
    "tags": []
   },
   "outputs": [
    {
     "ename": "TypeError",
     "evalue": "super(type, obj): obj must be an instance or subtype of type",
     "output_type": "error",
     "traceback": [
      "\u001b[1;31m---------------------------------------------------------------------------\u001b[0m",
      "\u001b[1;31mTypeError\u001b[0m                                 Traceback (most recent call last)",
      "\u001b[1;32m<ipython-input-17-8a16dce81e47>\u001b[0m in \u001b[0;36m<module>\u001b[1;34m\u001b[0m\n\u001b[0;32m      1\u001b[0m \u001b[0mdf_final1\u001b[0m \u001b[1;33m=\u001b[0m \u001b[0mpd\u001b[0m\u001b[1;33m.\u001b[0m\u001b[0mDataFrame\u001b[0m\u001b[1;33m(\u001b[0m\u001b[1;33m)\u001b[0m\u001b[1;33m\u001b[0m\u001b[1;33m\u001b[0m\u001b[0m\n\u001b[1;32m----> 2\u001b[1;33m \u001b[1;32mfor\u001b[0m \u001b[0m_\u001b[0m\u001b[1;33m,\u001b[0m \u001b[0mrow\u001b[0m \u001b[1;32min\u001b[0m \u001b[0mtqdm\u001b[0m\u001b[1;33m(\u001b[0m\u001b[0mdf\u001b[0m\u001b[1;33m.\u001b[0m\u001b[0miterrows\u001b[0m\u001b[1;33m(\u001b[0m\u001b[1;33m)\u001b[0m\u001b[1;33m)\u001b[0m\u001b[1;33m:\u001b[0m\u001b[1;33m\u001b[0m\u001b[1;33m\u001b[0m\u001b[0m\n\u001b[0m\u001b[0;32m      3\u001b[0m     \u001b[0mcode\u001b[0m \u001b[1;33m=\u001b[0m \u001b[0mtokenize_r\u001b[0m\u001b[1;33m(\u001b[0m\u001b[0mcode\u001b[0m\u001b[1;33m=\u001b[0m\u001b[0mrow\u001b[0m\u001b[1;33m[\u001b[0m\u001b[1;34m'Code'\u001b[0m\u001b[1;33m]\u001b[0m\u001b[1;33m)\u001b[0m\u001b[1;33m\u001b[0m\u001b[1;33m\u001b[0m\u001b[0m\n\u001b[0;32m      4\u001b[0m \u001b[1;33m\u001b[0m\u001b[0m\n\u001b[0;32m      5\u001b[0m     \u001b[1;32mif\u001b[0m \u001b[0mcode\u001b[0m\u001b[1;33m:\u001b[0m\u001b[1;33m\u001b[0m\u001b[1;33m\u001b[0m\u001b[0m\n",
      "\u001b[1;32m~\\Miniconda3\\envs\\torch\\lib\\site-packages\\tqdm\\notebook.py\u001b[0m in \u001b[0;36m__init__\u001b[1;34m(self, *args, **kwargs)\u001b[0m\n\u001b[0;32m    222\u001b[0m         \u001b[0mcolour\u001b[0m \u001b[1;33m=\u001b[0m \u001b[0mkwargs\u001b[0m\u001b[1;33m.\u001b[0m\u001b[0mpop\u001b[0m\u001b[1;33m(\u001b[0m\u001b[1;34m'colour'\u001b[0m\u001b[1;33m,\u001b[0m \u001b[1;32mNone\u001b[0m\u001b[1;33m)\u001b[0m\u001b[1;33m\u001b[0m\u001b[1;33m\u001b[0m\u001b[0m\n\u001b[0;32m    223\u001b[0m         \u001b[0mdisplay_here\u001b[0m \u001b[1;33m=\u001b[0m \u001b[0mkwargs\u001b[0m\u001b[1;33m.\u001b[0m\u001b[0mpop\u001b[0m\u001b[1;33m(\u001b[0m\u001b[1;34m'display'\u001b[0m\u001b[1;33m,\u001b[0m \u001b[1;32mTrue\u001b[0m\u001b[1;33m)\u001b[0m\u001b[1;33m\u001b[0m\u001b[1;33m\u001b[0m\u001b[0m\n\u001b[1;32m--> 224\u001b[1;33m         \u001b[0msuper\u001b[0m\u001b[1;33m(\u001b[0m\u001b[0mtqdm_notebook\u001b[0m\u001b[1;33m,\u001b[0m \u001b[0mself\u001b[0m\u001b[1;33m)\u001b[0m\u001b[1;33m.\u001b[0m\u001b[0m__init__\u001b[0m\u001b[1;33m(\u001b[0m\u001b[1;33m*\u001b[0m\u001b[0margs\u001b[0m\u001b[1;33m,\u001b[0m \u001b[1;33m**\u001b[0m\u001b[0mkwargs\u001b[0m\u001b[1;33m)\u001b[0m\u001b[1;33m\u001b[0m\u001b[1;33m\u001b[0m\u001b[0m\n\u001b[0m\u001b[0;32m    225\u001b[0m         \u001b[1;32mif\u001b[0m \u001b[0mself\u001b[0m\u001b[1;33m.\u001b[0m\u001b[0mdisable\u001b[0m \u001b[1;32mor\u001b[0m \u001b[1;32mnot\u001b[0m \u001b[0mkwargs\u001b[0m\u001b[1;33m[\u001b[0m\u001b[1;34m'gui'\u001b[0m\u001b[1;33m]\u001b[0m\u001b[1;33m:\u001b[0m\u001b[1;33m\u001b[0m\u001b[1;33m\u001b[0m\u001b[0m\n\u001b[0;32m    226\u001b[0m             \u001b[0mself\u001b[0m\u001b[1;33m.\u001b[0m\u001b[0mdisp\u001b[0m \u001b[1;33m=\u001b[0m \u001b[1;32mlambda\u001b[0m \u001b[1;33m*\u001b[0m\u001b[0m_\u001b[0m\u001b[1;33m,\u001b[0m \u001b[1;33m**\u001b[0m\u001b[0m__\u001b[0m\u001b[1;33m:\u001b[0m \u001b[1;32mNone\u001b[0m\u001b[1;33m\u001b[0m\u001b[1;33m\u001b[0m\u001b[0m\n",
      "\u001b[1;31mTypeError\u001b[0m: super(type, obj): obj must be an instance or subtype of type"
     ]
    }
   ],
   "source": [
    "df_final1 = pd.DataFrame()\n",
    "for _, row in tqdm(df.iterrows()):\n",
    "    code = tokenize_r(code=row['Code'])\n",
    "    \n",
    "    if code:\n",
    "        row['Code'] = ''.join(a for a in code)\n",
    "        df_final1 = df_final1.append(row)"
   ]
  },
  {
   "cell_type": "code",
   "execution_count": null,
   "id": "robust-commercial",
   "metadata": {},
   "outputs": [],
   "source": [
    "df_final1.columns"
   ]
  },
  {
   "cell_type": "code",
   "execution_count": null,
   "id": "transparent-thomas",
   "metadata": {},
   "outputs": [],
   "source": [
    "df_final1=df_final1[['Description', 'Code']]"
   ]
  },
  {
   "cell_type": "code",
   "execution_count": null,
   "id": "empirical-zambia",
   "metadata": {},
   "outputs": [],
   "source": []
  },
  {
   "cell_type": "code",
   "execution_count": null,
   "id": "enhanced-allowance",
   "metadata": {},
   "outputs": [],
   "source": [
    "df_final1"
   ]
  },
  {
   "cell_type": "code",
   "execution_count": null,
   "id": "demographic-feeding",
   "metadata": {},
   "outputs": [],
   "source": [
    "df_final1[df_final1['Description'].str.contains('function')]"
   ]
  },
  {
   "cell_type": "code",
   "execution_count": null,
   "id": "forty-alabama",
   "metadata": {},
   "outputs": [],
   "source": [
    "df_final1['len'] = df_final1['Code'].str.len()\n",
    "df_final1 = df_final1.drop(df_final1[df_final1['len'] == 0].index)\n",
    "df_final1 = df_final1[df_final1['len'] < 251]"
   ]
  },
  {
   "cell_type": "code",
   "execution_count": null,
   "id": "removable-wyoming",
   "metadata": {},
   "outputs": [],
   "source": [
    "df_final1.to_pickle('final_code_samples.pkl', protocol=4)\n",
    "df_final1.to_csv('final_code_samples.csv')"
   ]
  },
  {
   "cell_type": "code",
   "execution_count": null,
   "id": "tropical-rotation",
   "metadata": {},
   "outputs": [],
   "source": [
    "# Dividing the data into train and validation dataset\n",
    "\n",
    "train_df = df_final1.sample(frac = 0.85) \n",
    "  \n",
    "# Creating dataframe with rest of the 20% values \n",
    "valid_df = df_final1.drop(train_df.index)\n"
   ]
  },
  {
   "cell_type": "code",
   "execution_count": null,
   "id": "acknowledged-nurse",
   "metadata": {},
   "outputs": [],
   "source": [
    "train_df"
   ]
  },
  {
   "cell_type": "code",
   "execution_count": null,
   "id": "studied-drink",
   "metadata": {},
   "outputs": [],
   "source": [
    "valid_df"
   ]
  },
  {
   "cell_type": "code",
   "execution_count": null,
   "id": "several-crossing",
   "metadata": {},
   "outputs": [],
   "source": [
    "train_df['Code']=train_df['Code'].str.replace('\\t', '<TAB>')\n",
    "train_df['Code']=train_df['Code'].str.replace('\\n', '<NL>')\n",
    "train_df['Code']=train_df['Code'].str.replace(' ', '<SPC>')\n",
    "\n",
    "valid_df['Code']=valid_df['Code'].str.replace('\\t', '<TAB>')\n",
    "valid_df['Code']=valid_df['Code'].str.replace('\\n', '<NL>')\n",
    "valid_df['Code']=valid_df['Code'].str.replace(' ', '<SPC>')"
   ]
  },
  {
   "cell_type": "code",
   "execution_count": null,
   "id": "natural-cookie",
   "metadata": {},
   "outputs": [],
   "source": [
    "train_df[train_df['Code'].str.contains('\\t')]"
   ]
  },
  {
   "cell_type": "code",
   "execution_count": null,
   "id": "adjustable-orientation",
   "metadata": {},
   "outputs": [],
   "source": [
    "valid_df[valid_df['Code'].str.contains('\\t')]\n"
   ]
  },
  {
   "cell_type": "code",
   "execution_count": null,
   "id": "human-things",
   "metadata": {},
   "outputs": [],
   "source": [
    "train_df = train_df[['Description', 'Code']]\n",
    "valid_df = valid_df[['Description', 'Code']]\n",
    "\n",
    "train_df.to_csv('train.tsv', index=False, sep='\\t')\n",
    "valid_df.to_csv('valid.tsv', index=False, sep='\\t')"
   ]
  },
  {
   "cell_type": "code",
   "execution_count": null,
   "id": "afraid-personal",
   "metadata": {},
   "outputs": [],
   "source": [
    "df_final1 = df_final1.drop(df_final1[df_final1['len'] == 0].index)"
   ]
  },
  {
   "cell_type": "code",
   "execution_count": null,
   "id": "recent-cowboy",
   "metadata": {},
   "outputs": [],
   "source": [
    "df_final2 = df_final1.sort_values(by='Description', key=lambda x:x.str.len())"
   ]
  },
  {
   "cell_type": "code",
   "execution_count": null,
   "id": "downtown-preview",
   "metadata": {
    "scrolled": true,
    "tags": []
   },
   "outputs": [],
   "source": [
    "df_final2.sort_values(by='len').iloc[100:200]"
   ]
  },
  {
   "cell_type": "code",
   "execution_count": null,
   "id": "vertical-bandwidth",
   "metadata": {
    "scrolled": true,
    "tags": []
   },
   "outputs": [],
   "source": [
    "df_final2.iloc[:100]"
   ]
  },
  {
   "cell_type": "code",
   "execution_count": null,
   "id": "governing-swaziland",
   "metadata": {},
   "outputs": [],
   "source": []
  }
 ],
 "metadata": {
  "kernelspec": {
   "display_name": "torch",
   "language": "python",
   "name": "torch"
  },
  "language_info": {
   "codemirror_mode": {
    "name": "ipython",
    "version": 3
   },
   "file_extension": ".py",
   "mimetype": "text/x-python",
   "name": "python",
   "nbconvert_exporter": "python",
   "pygments_lexer": "ipython3",
   "version": "3.8.5"
  }
 },
 "nbformat": 4,
 "nbformat_minor": 5
}
