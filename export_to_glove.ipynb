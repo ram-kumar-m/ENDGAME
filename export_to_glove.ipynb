{
 "cells": [
  {
   "cell_type": "code",
   "execution_count": 4,
   "id": "rubber-addition",
   "metadata": {},
   "outputs": [],
   "source": [
    "import pickle\n",
    "from collections import Counter"
   ]
  },
  {
   "cell_type": "code",
   "execution_count": 125,
   "id": "competitive-safety",
   "metadata": {},
   "outputs": [],
   "source": [
    "with open('lib_tokens.pkl', 'rb') as f:\n",
    "    tokens = pickle.load(f)"
   ]
  },
  {
   "cell_type": "code",
   "execution_count": 126,
   "id": "alleged-miracle",
   "metadata": {},
   "outputs": [],
   "source": [
    "counter = Counter(tokens)"
   ]
  },
  {
   "cell_type": "code",
   "execution_count": 127,
   "id": "polar-mortality",
   "metadata": {},
   "outputs": [
    {
     "data": {
      "text/plain": [
       "22820"
      ]
     },
     "execution_count": 127,
     "metadata": {},
     "output_type": "execute_result"
    }
   ],
   "source": [
    "counter['']"
   ]
  },
  {
   "cell_type": "code",
   "execution_count": 128,
   "id": "informed-warning",
   "metadata": {},
   "outputs": [],
   "source": [
    "updated_list = []\n",
    "for b in  tokens:\n",
    "    if b == '\\n':\n",
    "        updated_list.append('<NL>')\n",
    "    elif b == '\\t':\n",
    "        updated_list.append('<TAB>')\n",
    "    elif b == '    ':\n",
    "        updated_list.append('<TAB>')\n",
    "    elif b == '   ':\n",
    "        updated_list.append('<TAB>')\n",
    "    elif b == '  ':\n",
    "        updated_list.append('<TAB>')\n",
    "    elif b == ' ':\n",
    "        updated_list.append('<SPC>')\n",
    "    elif b == '':\n",
    "        pass\n",
    "    else:\n",
    "        updated_list.append(b)"
   ]
  },
  {
   "cell_type": "code",
   "execution_count": 129,
   "id": "painful-scanner",
   "metadata": {},
   "outputs": [
    {
     "data": {
      "text/plain": [
       "False"
      ]
     },
     "execution_count": 129,
     "metadata": {},
     "output_type": "execute_result"
    }
   ],
   "source": [
    "len(updated_list)== len(tokens)"
   ]
  },
  {
   "cell_type": "code",
   "execution_count": 130,
   "id": "damaged-vegetation",
   "metadata": {},
   "outputs": [],
   "source": [
    "updated_counter = Counter(updated_list)"
   ]
  },
  {
   "cell_type": "code",
   "execution_count": 131,
   "id": "behind-simple",
   "metadata": {},
   "outputs": [],
   "source": [
    "for idx, val in enumerate(updated_list):\n",
    "    if val == '':\n",
    "        print(updated_list[idx-5:idx+5])\n",
    "        break"
   ]
  },
  {
   "cell_type": "code",
   "execution_count": 132,
   "id": "stone-objective",
   "metadata": {},
   "outputs": [],
   "source": [
    "with open('lib_glove.txt', 'w', encoding='utf-8') as f:\n",
    "    f.write(' '.join(updated_list))"
   ]
  },
  {
   "cell_type": "code",
   "execution_count": 124,
   "id": "indian-recipient",
   "metadata": {},
   "outputs": [
    {
     "data": {
      "text/plain": [
       "1894"
      ]
     },
     "execution_count": 124,
     "metadata": {},
     "output_type": "execute_result"
    }
   ],
   "source": [
    "updated_counter['                  ']"
   ]
  },
  {
   "cell_type": "code",
   "execution_count": 66,
   "id": "meaningful-walker",
   "metadata": {},
   "outputs": [
    {
     "data": {
      "text/plain": [
       "''"
      ]
     },
     "execution_count": 66,
     "metadata": {},
     "output_type": "execute_result"
    }
   ],
   "source": [
    "'   '.replace(' ', '')"
   ]
  },
  {
   "cell_type": "code",
   "execution_count": 69,
   "id": "allied-official",
   "metadata": {},
   "outputs": [
    {
     "data": {
      "text/plain": [
       "False"
      ]
     },
     "execution_count": 69,
     "metadata": {},
     "output_type": "execute_result"
    }
   ],
   "source": [
    "' ' == '  '"
   ]
  },
  {
   "cell_type": "code",
   "execution_count": 136,
   "id": "blessed-wings",
   "metadata": {},
   "outputs": [],
   "source": [
    "import torchtext, spacy"
   ]
  },
  {
   "cell_type": "code",
   "execution_count": 137,
   "id": "permanent-month",
   "metadata": {},
   "outputs": [
    {
     "name": "stderr",
     "output_type": "stream",
     "text": [
      "100%|█████████████████████████████████████████████████████████████████████████▉| 38025/38026 [00:03<00:00, 9790.17it/s]\n"
     ]
    }
   ],
   "source": [
    "import torchtext.vocab as vocab\n",
    "\n",
    "custom_embeddings = vocab.Vectors.(name = '../glove/vectors.txt')"
   ]
  },
  {
   "cell_type": "code",
   "execution_count": 151,
   "id": "nearby-budapest",
   "metadata": {},
   "outputs": [
    {
     "data": {
      "text/plain": [
       "tensor([ 0.8905, -0.7059, -0.7301,  0.2706, -0.2959,  0.7247, -0.5825, -0.4112,\n",
       "         0.9629,  0.1846,  0.5610, -1.2944, -0.2344, -0.2671, -0.0917, -0.4081,\n",
       "         0.0476, -0.8554,  0.5741, -0.6226,  0.6119, -0.9487, -0.8614, -0.7285,\n",
       "         1.0333,  0.4574, -0.4979,  0.1497, -1.6169,  0.4224, -0.1048,  0.9366,\n",
       "        -0.1734, -0.0715, -0.3806,  0.6725, -0.6743,  0.0213, -0.2529, -0.2568,\n",
       "         0.5801, -0.1280,  0.5781,  0.4806,  0.3060, -0.9142, -0.0667,  0.4879,\n",
       "         0.0668,  0.4272,  0.0486,  0.1456, -0.1356,  0.0303,  0.7158, -0.4711,\n",
       "        -1.4713,  0.9895,  0.3344, -0.7507, -0.9358, -0.1157, -0.2652, -0.0881,\n",
       "         0.9695, -0.6628, -0.1149, -0.3420, -0.2638,  0.5470, -0.5036, -0.3633,\n",
       "         0.4156, -0.7284,  0.2639,  0.0325,  0.6340,  0.4444,  0.1201,  0.6702,\n",
       "        -0.3162,  1.2038, -0.5558, -0.2992,  0.7360,  0.2773,  0.7677, -0.3722,\n",
       "         0.4642,  0.6099, -0.9339, -0.0769, -0.5089,  0.3363, -0.7646, -1.3674,\n",
       "        -0.3208, -0.4865,  0.0423, -0.1190, -0.5418,  0.1184,  0.2295, -0.2892,\n",
       "         0.9098,  0.9891, -0.7969,  1.0412,  0.5102, -0.3610,  0.2844, -0.3439,\n",
       "         1.3864, -0.7247, -1.0809, -0.0751, -0.6024,  0.4060, -1.2601, -0.2828,\n",
       "         1.0306,  0.3463, -0.1140, -0.0795, -0.0549, -0.2724, -0.4198, -0.2790,\n",
       "         0.0719,  0.5855,  0.8976, -0.8916,  0.3204, -0.6626,  0.4679, -0.1556,\n",
       "        -0.0064, -0.1026, -0.8461,  0.4424, -0.3620, -0.4157,  0.0608,  0.5838,\n",
       "         0.6838, -0.1374,  0.9822, -0.0292, -0.5548,  0.4674,  0.8222, -0.7567,\n",
       "         0.1058, -0.0471, -0.0310,  0.3594, -0.4929,  0.4206,  0.0579, -0.7343,\n",
       "         0.6627, -0.1997, -0.7691,  0.1259,  0.3167, -0.0228, -0.1104, -0.3785,\n",
       "         0.7708, -0.5137,  0.6604,  0.0447,  0.2555,  0.0859,  0.6758, -0.1148,\n",
       "         0.4405, -0.7383, -0.9253,  1.1734,  0.9898,  1.0018,  0.5701,  0.4456,\n",
       "        -0.6046, -0.2000,  0.1554,  0.5916,  0.4597,  0.0844,  0.4670,  0.1840,\n",
       "         0.7103, -0.0654, -0.2139, -0.0166, -0.5187,  0.4618,  1.6419, -0.3645,\n",
       "         0.2913,  0.3287, -0.1998,  0.0084, -0.5777,  0.2298,  0.4799, -0.2090,\n",
       "        -0.4407, -0.1907,  0.2239, -0.7742, -0.6775, -0.5285,  0.9228,  0.8538,\n",
       "         0.6015, -0.3525, -0.4011,  0.1056, -0.4622, -0.0839,  1.1918, -0.9141,\n",
       "         0.0261,  0.3817, -0.0947, -0.5893, -0.3727,  0.3817, -0.4645, -0.6226,\n",
       "         0.5834, -1.5902, -0.1238, -0.3404, -0.6708,  0.3496,  0.9496,  0.0623,\n",
       "        -0.7610,  1.0011,  0.4904, -0.8278, -0.2010, -1.1016,  0.9114, -1.0733,\n",
       "        -0.3935,  0.1363, -0.5238, -0.8295, -0.1011, -0.4125, -0.3187, -0.1172])"
      ]
     },
     "execution_count": 151,
     "metadata": {},
     "output_type": "execute_result"
    }
   ],
   "source": [
    "custom_embeddings.vectors[0]"
   ]
  },
  {
   "cell_type": "code",
   "execution_count": 139,
   "id": "molecular-march",
   "metadata": {},
   "outputs": [
    {
     "data": {
      "text/plain": [
       "['__class__',\n",
       " '__delattr__',\n",
       " '__dict__',\n",
       " '__dir__',\n",
       " '__doc__',\n",
       " '__eq__',\n",
       " '__format__',\n",
       " '__ge__',\n",
       " '__getattribute__',\n",
       " '__getitem__',\n",
       " '__gt__',\n",
       " '__hash__',\n",
       " '__init__',\n",
       " '__init_subclass__',\n",
       " '__le__',\n",
       " '__len__',\n",
       " '__lt__',\n",
       " '__module__',\n",
       " '__ne__',\n",
       " '__new__',\n",
       " '__reduce__',\n",
       " '__reduce_ex__',\n",
       " '__repr__',\n",
       " '__setattr__',\n",
       " '__sizeof__',\n",
       " '__str__',\n",
       " '__subclasshook__',\n",
       " '__weakref__',\n",
       " 'cache',\n",
       " 'dim',\n",
       " 'get_vecs_by_tokens',\n",
       " 'itos',\n",
       " 'stoi',\n",
       " 'unk_init',\n",
       " 'vectors']"
      ]
     },
     "execution_count": 139,
     "metadata": {},
     "output_type": "execute_result"
    }
   ],
   "source": [
    "dir(custom_embeddings)"
   ]
  },
  {
   "cell_type": "code",
   "execution_count": null,
   "id": "split-child",
   "metadata": {},
   "outputs": [],
   "source": []
  }
 ],
 "metadata": {
  "kernelspec": {
   "display_name": "torch",
   "language": "python",
   "name": "torch"
  },
  "language_info": {
   "codemirror_mode": {
    "name": "ipython",
    "version": 3
   },
   "file_extension": ".py",
   "mimetype": "text/x-python",
   "name": "python",
   "nbconvert_exporter": "python",
   "pygments_lexer": "ipython3",
   "version": "3.8.5"
  }
 },
 "nbformat": 4,
 "nbformat_minor": 5
}
